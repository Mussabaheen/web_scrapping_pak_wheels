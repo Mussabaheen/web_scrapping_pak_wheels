{
 "cells": [
  {
   "cell_type": "markdown",
   "metadata": {},
   "source": [
    "<H1> Price indicator of Cars against Engine capacity using web scrapping </H1>\n",
    "\n",
    "\n",
    "   <h6> Malik Mussabeheen Noor 16PWCSE1407</h6>\n",
    "   <h6> SYED ADNAN SHAH 16PWCSE1421</h6>\n",
    "   <h6> OSAMA IJAZ 16PWCSE1433</h6>\n",
    "   <h6> GHANIA NAVEED KHAN 16PWCSE1484</h6>\n",
    "\n"
   ]
  },
  {
   "cell_type": "code",
   "execution_count": 2,
   "metadata": {},
   "outputs": [
    {
     "name": "stdout",
     "output_type": "stream",
     "text": [
      "Requirement already satisfied: selenium in /Users/mussabaheenmalik/opt/anaconda3/lib/python3.7/site-packages (3.141.0)\n",
      "Requirement already satisfied: urllib3 in /Users/mussabaheenmalik/opt/anaconda3/lib/python3.7/site-packages (from selenium) (1.24.2)\n",
      "Requirement already satisfied: BeautifulSoup4 in /Users/mussabaheenmalik/opt/anaconda3/lib/python3.7/site-packages (4.8.0)\n",
      "Requirement already satisfied: soupsieve>=1.2 in /Users/mussabaheenmalik/opt/anaconda3/lib/python3.7/site-packages (from BeautifulSoup4) (1.9.3)\n"
     ]
    }
   ],
   "source": [
    "!pip install selenium\n",
    "!pip install BeautifulSoup4"
   ]
  },
  {
   "cell_type": "code",
   "execution_count": 296,
   "metadata": {},
   "outputs": [],
   "source": [
    "from selenium import webdriver\n",
    "import pandas as pd\n",
    "import matplotlib.pyplot as plt\n"
   ]
  },
  {
   "cell_type": "code",
   "execution_count": 144,
   "metadata": {},
   "outputs": [],
   "source": [
    "from bs4 import BeautifulSoup"
   ]
  },
  {
   "cell_type": "code",
   "execution_count": 145,
   "metadata": {},
   "outputs": [],
   "source": [
    "driver = webdriver.Chrome(\"/usr/local/bin/chromedriver\")"
   ]
  },
  {
   "cell_type": "code",
   "execution_count": 146,
   "metadata": {},
   "outputs": [],
   "source": [
    "\n",
    "driver.get(\"https://www.pakwheels.com/new-cars/search/make_any/model_any/price_any_any/\")"
   ]
  },
  {
   "cell_type": "code",
   "execution_count": 374,
   "metadata": {},
   "outputs": [],
   "source": [
    "products=[] #List to store name of the product\n",
    "specs=[] #List to store price of the product\n",
    "priecs=[] #List to store rating of the product\n",
    "content = driver.page_source\n",
    "soup = BeautifulSoup(content)\n",
    "for a in soup.findAll('div', attrs={'class':'col-md-6'}):    \n",
    "    name=a.find('a', attrs={'class':'car-name'})\n",
    "    spec_car=a.find('div', attrs={'class':'generic-gray mt10'})\n",
    "    if name!=None:\n",
    "        products.append(name.text)\n",
    "        specs.append(spec_car.text)\n",
    "        \n",
    "        \n",
    "        \n",
    "    \n"
   ]
  },
  {
   "cell_type": "code",
   "execution_count": 375,
   "metadata": {},
   "outputs": [
    {
     "name": "stdout",
     "output_type": "stream",
     "text": [
      "\n",
      "PKR 9.85 lacs\n",
      "\n",
      "\n",
      "PKR 9.89 lacs\n",
      "\n",
      "\n",
      "PKR 9.99 lacs\n",
      "\n",
      "\n",
      "PKR 10.4 lacs\n",
      "\n",
      "\n",
      "PKR 10.54 lacs\n",
      "\n"
     ]
    }
   ],
   "source": [
    "prices=[] #List to store rating of the product\n",
    "for a in soup.findAll('div', attrs={'class':'col-md-3 right-container'}):  \n",
    "    price=a.find('div', attrs={'class':'generic-green price-details'})\n",
    "    prices.append(price.text)\n",
    "    print(price.text)"
   ]
  },
  {
   "cell_type": "code",
   "execution_count": 376,
   "metadata": {},
   "outputs": [
    {
     "data": {
      "text/plain": [
       "['United Bravo Base Grade ',\n",
       " 'JW Forland Bravo 1.0',\n",
       " 'Suzuki Ravi Euro ll',\n",
       " 'Suzuki Bolan Cargo Van Euro ll',\n",
       " 'FAW Carrier Deckless']"
      ]
     },
     "execution_count": 376,
     "metadata": {},
     "output_type": "execute_result"
    }
   ],
   "source": [
    "products"
   ]
  },
  {
   "cell_type": "code",
   "execution_count": 377,
   "metadata": {},
   "outputs": [
    {
     "data": {
      "text/plain": [
       "['\\n                          Manual \\xa0|\\xa0 Petrol \\xa0|\\xa0 796 cc\\n                        ',\n",
       " '\\n                          Manual \\xa0|\\xa0 Petrol \\xa0|\\xa0 1809 cc\\n                        ',\n",
       " '\\n                          Manual \\xa0|\\xa0 Petrol \\xa0|\\xa0 796 cc\\n                        ',\n",
       " '\\n                          Manual \\xa0|\\xa0 Petrol \\xa0|\\xa0 796 cc\\n                        ',\n",
       " '\\n                          Manual \\xa0|\\xa0 Petrol \\xa0|\\xa0 970 cc\\n                        ']"
      ]
     },
     "execution_count": 377,
     "metadata": {},
     "output_type": "execute_result"
    }
   ],
   "source": [
    "specs"
   ]
  },
  {
   "cell_type": "code",
   "execution_count": 378,
   "metadata": {},
   "outputs": [
    {
     "data": {
      "text/plain": [
       "<filter at 0x134849710>"
      ]
     },
     "execution_count": 378,
     "metadata": {},
     "output_type": "execute_result"
    }
   ],
   "source": [
    "filter('',specs)"
   ]
  },
  {
   "cell_type": "code",
   "execution_count": 379,
   "metadata": {},
   "outputs": [
    {
     "data": {
      "text/plain": [
       "['\\n                          Manual \\xa0|\\xa0 Petrol \\xa0|\\xa0 796 cc\\n                        ',\n",
       " '\\n                          Manual \\xa0|\\xa0 Petrol \\xa0|\\xa0 1809 cc\\n                        ',\n",
       " '\\n                          Manual \\xa0|\\xa0 Petrol \\xa0|\\xa0 796 cc\\n                        ',\n",
       " '\\n                          Manual \\xa0|\\xa0 Petrol \\xa0|\\xa0 796 cc\\n                        ',\n",
       " '\\n                          Manual \\xa0|\\xa0 Petrol \\xa0|\\xa0 970 cc\\n                        ']"
      ]
     },
     "execution_count": 379,
     "metadata": {},
     "output_type": "execute_result"
    }
   ],
   "source": [
    "specs"
   ]
  },
  {
   "cell_type": "code",
   "execution_count": 380,
   "metadata": {},
   "outputs": [
    {
     "data": {
      "text/plain": [
       "['\\nPKR 9.85 lacs\\n',\n",
       " '\\nPKR 9.89 lacs\\n',\n",
       " '\\nPKR 9.99 lacs\\n',\n",
       " '\\nPKR 10.4 lacs\\n',\n",
       " '\\nPKR 10.54 lacs\\n']"
      ]
     },
     "execution_count": 380,
     "metadata": {},
     "output_type": "execute_result"
    }
   ],
   "source": [
    "prices"
   ]
  },
  {
   "cell_type": "code",
   "execution_count": 381,
   "metadata": {},
   "outputs": [
    {
     "data": {
      "text/plain": [
       "['United Bravo Base Grade ',\n",
       " 'JW Forland Bravo 1.0',\n",
       " 'Suzuki Ravi Euro ll',\n",
       " 'Suzuki Bolan Cargo Van Euro ll',\n",
       " 'FAW Carrier Deckless']"
      ]
     },
     "execution_count": 381,
     "metadata": {},
     "output_type": "execute_result"
    }
   ],
   "source": [
    "products[:5]"
   ]
  },
  {
   "cell_type": "code",
   "execution_count": 382,
   "metadata": {},
   "outputs": [
    {
     "data": {
      "text/plain": [
       "5"
      ]
     },
     "execution_count": 382,
     "metadata": {},
     "output_type": "execute_result"
    }
   ],
   "source": [
    "len(products)"
   ]
  },
  {
   "cell_type": "code",
   "execution_count": 383,
   "metadata": {},
   "outputs": [],
   "source": [
    "index = 0\n",
    "for a in specs:\n",
    "    specs[index] = (a).replace(' ','')\n",
    "    index=index+1"
   ]
  },
  {
   "cell_type": "code",
   "execution_count": 384,
   "metadata": {},
   "outputs": [],
   "source": [
    "index = 0\n",
    "for a in specs:\n",
    "    specs[index] = (a).replace('\\xa0|\\xa0',' ')\n",
    "    index=index+1"
   ]
  },
  {
   "cell_type": "code",
   "execution_count": 385,
   "metadata": {},
   "outputs": [],
   "source": [
    "index = 0\n",
    "for a in specs:\n",
    "    specs[index] = (a).replace('\\n','')\n",
    "    index=index+1"
   ]
  },
  {
   "cell_type": "code",
   "execution_count": null,
   "metadata": {},
   "outputs": [],
   "source": []
  },
  {
   "cell_type": "code",
   "execution_count": 386,
   "metadata": {},
   "outputs": [],
   "source": [
    "index = 0\n",
    "for a in prices:\n",
    "    prices[index] = (a).replace('\\n','')\n",
    "    index=index+1"
   ]
  },
  {
   "cell_type": "code",
   "execution_count": 387,
   "metadata": {},
   "outputs": [
    {
     "data": {
      "text/plain": [
       "['PKR 9.85 lacs',\n",
       " 'PKR 9.89 lacs',\n",
       " 'PKR 9.99 lacs',\n",
       " 'PKR 10.4 lacs',\n",
       " 'PKR 10.54 lacs']"
      ]
     },
     "execution_count": 387,
     "metadata": {},
     "output_type": "execute_result"
    }
   ],
   "source": [
    "prices"
   ]
  },
  {
   "cell_type": "code",
   "execution_count": 388,
   "metadata": {},
   "outputs": [
    {
     "data": {
      "text/plain": [
       "['Manual Petrol 796cc',\n",
       " 'Manual Petrol 1809cc',\n",
       " 'Manual Petrol 796cc',\n",
       " 'Manual Petrol 796cc',\n",
       " 'Manual Petrol 970cc']"
      ]
     },
     "execution_count": 388,
     "metadata": {},
     "output_type": "execute_result"
    }
   ],
   "source": [
    "specs"
   ]
  },
  {
   "cell_type": "code",
   "execution_count": 389,
   "metadata": {},
   "outputs": [],
   "source": [
    "transmission=[]\n",
    "fuel = []\n",
    "engine_capacity = []\n",
    "for a in range(len(specs)):\n",
    "    transmission.append(specs[a].split(' ')[0])\n",
    "    fuel.append(specs[a].split(' ')[1])\n",
    "    engine_capacity.append(specs[a].split(' ')[2])"
   ]
  },
  {
   "cell_type": "code",
   "execution_count": 390,
   "metadata": {},
   "outputs": [],
   "source": [
    "df = pd.DataFrame({'Product Name':products,'Price':prices,'transmission':transmission,'fuel':fuel,'engine_capacity':engine_capacity}) \n",
    "df.to_csv('products.csv', index=False, encoding='utf-8')"
   ]
  },
  {
   "cell_type": "code",
   "execution_count": 392,
   "metadata": {},
   "outputs": [],
   "source": [
    "for a in range(5):\n",
    "    df['Price'][a] = float(df['Price'][a].split(' ')[1])"
   ]
  },
  {
   "cell_type": "code",
   "execution_count": 393,
   "metadata": {},
   "outputs": [
    {
     "data": {
      "text/plain": [
       "float"
      ]
     },
     "execution_count": 393,
     "metadata": {},
     "output_type": "execute_result"
    }
   ],
   "source": [
    "type(df['Price'][0])"
   ]
  },
  {
   "cell_type": "code",
   "execution_count": 394,
   "metadata": {},
   "outputs": [],
   "source": [
    "df['Price'] = pd.to_numeric(df['Price'])"
   ]
  },
  {
   "cell_type": "code",
   "execution_count": 395,
   "metadata": {},
   "outputs": [
    {
     "data": {
      "text/plain": [
       "engine_capacity\n",
       "1809cc     9.89\n",
       "796cc     10.08\n",
       "970cc     10.54\n",
       "Name: Price, dtype: float64"
      ]
     },
     "execution_count": 395,
     "metadata": {},
     "output_type": "execute_result"
    }
   ],
   "source": [
    "df.groupby('engine_capacity')['Price'].mean()"
   ]
  },
  {
   "cell_type": "code",
   "execution_count": null,
   "metadata": {},
   "outputs": [],
   "source": []
  }
 ],
 "metadata": {
  "kernelspec": {
   "display_name": "Python 3",
   "language": "python",
   "name": "python3"
  },
  "language_info": {
   "codemirror_mode": {
    "name": "ipython",
    "version": 3
   },
   "file_extension": ".py",
   "mimetype": "text/x-python",
   "name": "python",
   "nbconvert_exporter": "python",
   "pygments_lexer": "ipython3",
   "version": "3.7.4"
  }
 },
 "nbformat": 4,
 "nbformat_minor": 2
}
