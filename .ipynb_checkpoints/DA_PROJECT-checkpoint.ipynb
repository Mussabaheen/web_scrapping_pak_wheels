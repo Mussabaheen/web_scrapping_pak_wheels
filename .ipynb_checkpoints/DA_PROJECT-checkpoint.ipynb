{
 "cells": [
  {
   "cell_type": "code",
   "execution_count": 2,
   "metadata": {},
   "outputs": [
    {
     "name": "stdout",
     "output_type": "stream",
     "text": [
      "Requirement already satisfied: selenium in /Users/mussabaheenmalik/opt/anaconda3/lib/python3.7/site-packages (3.141.0)\n",
      "Requirement already satisfied: urllib3 in /Users/mussabaheenmalik/opt/anaconda3/lib/python3.7/site-packages (from selenium) (1.24.2)\n",
      "Requirement already satisfied: BeautifulSoup4 in /Users/mussabaheenmalik/opt/anaconda3/lib/python3.7/site-packages (4.8.0)\n",
      "Requirement already satisfied: soupsieve>=1.2 in /Users/mussabaheenmalik/opt/anaconda3/lib/python3.7/site-packages (from BeautifulSoup4) (1.9.3)\n"
     ]
    }
   ],
   "source": [
    "!pip install selenium\n",
    "!pip install BeautifulSoup4"
   ]
  },
  {
   "cell_type": "code",
   "execution_count": 3,
   "metadata": {},
   "outputs": [],
   "source": [
    "from selenium import webdriver\n",
    "import pandas as pd"
   ]
  },
  {
   "cell_type": "code",
   "execution_count": 4,
   "metadata": {},
   "outputs": [],
   "source": [
    "from bs4 import BeautifulSoup"
   ]
  },
  {
   "cell_type": "code",
   "execution_count": 5,
   "metadata": {},
   "outputs": [],
   "source": [
    "driver = webdriver.Chrome(\"/usr/local/bin/chromedriver\")"
   ]
  },
  {
   "cell_type": "code",
   "execution_count": 6,
   "metadata": {},
   "outputs": [],
   "source": [
    "\n",
    "driver.get(\"https://www.pakwheels.com/new-cars/search/make_any/model_any/price_any_any/\")"
   ]
  },
  {
   "cell_type": "code",
   "execution_count": 76,
   "metadata": {},
   "outputs": [],
   "source": [
    "products=[] #List to store name of the product\n",
    "specs=[] #List to store price of the product\n",
    "priecs=[] #List to store rating of the product\n",
    "content = driver.page_source\n",
    "soup = BeautifulSoup(content)\n",
    "for a in soup.findAll('div', attrs={'class':'col-md-6'}):    \n",
    "    name=a.find('a', attrs={'class':'car-name'})\n",
    "    spec_car=a.find('div', attrs={'class':'generic-gray mt10'})\n",
    "    if name!=None:\n",
    "        products.append(name.text)\n",
    "        specs.append(spec_car.text)\n",
    "        \n",
    "        \n",
    "        \n",
    "    \n"
   ]
  },
  {
   "cell_type": "code",
   "execution_count": null,
   "metadata": {},
   "outputs": [],
   "source": []
  },
  {
   "cell_type": "code",
   "execution_count": 51,
   "metadata": {},
   "outputs": [
    {
     "data": {
      "text/plain": [
       "<a class=\"car-name\" href=\"/new-cars/faw/carrier/deckless/\" itemprop=\"name\"><h3>FAW Carrier Deckless</h3></a>"
      ]
     },
     "execution_count": 51,
     "metadata": {},
     "output_type": "execute_result"
    }
   ],
   "source": [
    "name"
   ]
  },
  {
   "cell_type": "code",
   "execution_count": 91,
   "metadata": {},
   "outputs": [],
   "source": [
    "priecs=[] #List to store rating of the product\n",
    "for a in soup.findAll('div', attrs={'class':'col-md-3 right-container'}):  \n",
    "    price=a.find('div', attrs={'class':'generic-green price-details'})\n",
    "    prices.append(price.text)"
   ]
  },
  {
   "cell_type": "code",
   "execution_count": 95,
   "metadata": {},
   "outputs": [
    {
     "data": {
      "text/plain": [
       "['\\nPKR 9.85 lacs\\n',\n",
       " '\\nPKR 9.89 lacs\\n',\n",
       " '\\nPKR 9.99 lacs\\n',\n",
       " '\\nPKR 10.4 lacs\\n',\n",
       " '\\nPKR 10.54 lacs\\n']"
      ]
     },
     "execution_count": 95,
     "metadata": {},
     "output_type": "execute_result"
    }
   ],
   "source": [
    "prices"
   ]
  },
  {
   "cell_type": "code",
   "execution_count": 96,
   "metadata": {},
   "outputs": [
    {
     "data": {
      "text/plain": [
       "['United Bravo Base Grade ',\n",
       " 'JW Forland Bravo 1.0',\n",
       " 'Suzuki Ravi Euro ll',\n",
       " 'Suzuki Bolan Cargo Van Euro ll',\n",
       " 'FAW Carrier Deckless']"
      ]
     },
     "execution_count": 96,
     "metadata": {},
     "output_type": "execute_result"
    }
   ],
   "source": [
    "products"
   ]
  },
  {
   "cell_type": "code",
   "execution_count": 101,
   "metadata": {},
   "outputs": [
    {
     "data": {
      "text/plain": [
       "['\\n                          Manual \\xa0|\\xa0 Petrol \\xa0|\\xa0 796 cc\\n                        ',\n",
       " '\\n                          Manual \\xa0|\\xa0 Petrol \\xa0|\\xa0 1809 cc\\n                        ',\n",
       " '\\n                          Manual \\xa0|\\xa0 Petrol \\xa0|\\xa0 796 cc\\n                        ',\n",
       " '\\n                          Manual \\xa0|\\xa0 Petrol \\xa0|\\xa0 796 cc\\n                        ',\n",
       " '\\n                          Manual \\xa0|\\xa0 Petrol \\xa0|\\xa0 970 cc\\n                        ']"
      ]
     },
     "execution_count": 101,
     "metadata": {},
     "output_type": "execute_result"
    }
   ],
   "source": [
    "specs"
   ]
  },
  {
   "cell_type": "code",
   "execution_count": 102,
   "metadata": {},
   "outputs": [
    {
     "data": {
      "text/plain": [
       "<filter at 0x120b2e250>"
      ]
     },
     "execution_count": 102,
     "metadata": {},
     "output_type": "execute_result"
    }
   ],
   "source": [
    "filter('',specs)"
   ]
  },
  {
   "cell_type": "code",
   "execution_count": null,
   "metadata": {},
   "outputs": [],
   "source": []
  }
 ],
 "metadata": {
  "kernelspec": {
   "display_name": "Python 3",
   "language": "python",
   "name": "python3"
  },
  "language_info": {
   "codemirror_mode": {
    "name": "ipython",
    "version": 3
   },
   "file_extension": ".py",
   "mimetype": "text/x-python",
   "name": "python",
   "nbconvert_exporter": "python",
   "pygments_lexer": "ipython3",
   "version": "3.7.4"
  }
 },
 "nbformat": 4,
 "nbformat_minor": 2
}
